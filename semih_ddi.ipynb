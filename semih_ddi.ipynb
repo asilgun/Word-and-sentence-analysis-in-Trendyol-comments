{
 "cells": [
  {
   "cell_type": "code",
   "execution_count": 1,
   "id": "9165fa34",
   "metadata": {},
   "outputs": [],
   "source": [
    "import pandas as pd\n",
    "from gensim.models import Word2Vec\n",
    "from collections import defaultdict,Counter"
   ]
  },
  {
   "cell_type": "code",
   "execution_count": 2,
   "id": "40758fb5",
   "metadata": {},
   "outputs": [],
   "source": [
    "df = pd.read_excel('YALIN_TEMİZLENMİŞ_VERİ.xlsx')"
   ]
  },
  {
   "cell_type": "markdown",
   "id": "4f96c186",
   "metadata": {},
   "source": [
    "DataFrame'mizde eskik veriler öncelikle bunları giderelim."
   ]
  },
  {
   "cell_type": "code",
   "execution_count": 3,
   "id": "a6946395",
   "metadata": {},
   "outputs": [
    {
     "data": {
      "text/plain": [
       "4"
      ]
     },
     "execution_count": 3,
     "metadata": {},
     "output_type": "execute_result"
    }
   ],
   "source": [
    "df['Cleaned_Text'].isnull().sum()"
   ]
  },
  {
   "cell_type": "code",
   "execution_count": 4,
   "id": "77536acd",
   "metadata": {},
   "outputs": [],
   "source": [
    "df.dropna(subset=['Cleaned_Text'], inplace=True)"
   ]
  },
  {
   "cell_type": "code",
   "execution_count": 5,
   "id": "98c1553e",
   "metadata": {},
   "outputs": [
    {
     "data": {
      "text/html": [
       "<div>\n",
       "<style scoped>\n",
       "    .dataframe tbody tr th:only-of-type {\n",
       "        vertical-align: middle;\n",
       "    }\n",
       "\n",
       "    .dataframe tbody tr th {\n",
       "        vertical-align: top;\n",
       "    }\n",
       "\n",
       "    .dataframe thead th {\n",
       "        text-align: right;\n",
       "    }\n",
       "</style>\n",
       "<table border=\"1\" class=\"dataframe\">\n",
       "  <thead>\n",
       "    <tr style=\"text-align: right;\">\n",
       "      <th></th>\n",
       "      <th>0</th>\n",
       "      <th>Cleaned_Text</th>\n",
       "    </tr>\n",
       "  </thead>\n",
       "  <tbody>\n",
       "    <tr>\n",
       "      <th>0</th>\n",
       "      <td>1</td>\n",
       "      <td>sürekli kullandığım bir rimel uzatıyor volüm v...</td>\n",
       "    </tr>\n",
       "    <tr>\n",
       "      <th>1</th>\n",
       "      <td>2</td>\n",
       "      <td>benim gozumde alerji kuruluk var kaliteli mask...</td>\n",
       "    </tr>\n",
       "    <tr>\n",
       "      <th>2</th>\n",
       "      <td>3</td>\n",
       "      <td>stokluyorum bitdikce güzel kaldırıyo kirpikler...</td>\n",
       "    </tr>\n",
       "    <tr>\n",
       "      <th>3</th>\n",
       "      <td>4</td>\n",
       "      <td>gerçekten fiyatından fazlasını hak ediyor başa...</td>\n",
       "    </tr>\n",
       "    <tr>\n",
       "      <th>4</th>\n",
       "      <td>5</td>\n",
       "      <td>indirimde stokladığım rimelimdir kirpikleri ka...</td>\n",
       "    </tr>\n",
       "    <tr>\n",
       "      <th>...</th>\n",
       "      <td>...</td>\n",
       "      <td>...</td>\n",
       "    </tr>\n",
       "    <tr>\n",
       "      <th>10097</th>\n",
       "      <td>10098</td>\n",
       "      <td>saç kaş yüzünüze uygulayabilirsiniz memnun kal...</td>\n",
       "    </tr>\n",
       "    <tr>\n",
       "      <th>10098</th>\n",
       "      <td>10099</td>\n",
       "      <td>güzel cildinizi bebek yapıyor kremlerinize ekl...</td>\n",
       "    </tr>\n",
       "    <tr>\n",
       "      <th>10099</th>\n",
       "      <td>10100</td>\n",
       "      <td>kaliteli bi ürün alın</td>\n",
       "    </tr>\n",
       "    <tr>\n",
       "      <th>10100</th>\n",
       "      <td>10101</td>\n",
       "      <td>kullandığım bir ürün memnunum</td>\n",
       "    </tr>\n",
       "    <tr>\n",
       "      <th>10101</th>\n",
       "      <td>10102</td>\n",
       "      <td>zaman kullanıyorum kaşları besliyor yeni kaş ç...</td>\n",
       "    </tr>\n",
       "  </tbody>\n",
       "</table>\n",
       "<p>10098 rows × 2 columns</p>\n",
       "</div>"
      ],
      "text/plain": [
       "           0                                       Cleaned_Text\n",
       "0          1  sürekli kullandığım bir rimel uzatıyor volüm v...\n",
       "1          2  benim gozumde alerji kuruluk var kaliteli mask...\n",
       "2          3  stokluyorum bitdikce güzel kaldırıyo kirpikler...\n",
       "3          4  gerçekten fiyatından fazlasını hak ediyor başa...\n",
       "4          5  indirimde stokladığım rimelimdir kirpikleri ka...\n",
       "...      ...                                                ...\n",
       "10097  10098  saç kaş yüzünüze uygulayabilirsiniz memnun kal...\n",
       "10098  10099  güzel cildinizi bebek yapıyor kremlerinize ekl...\n",
       "10099  10100                              kaliteli bi ürün alın\n",
       "10100  10101                      kullandığım bir ürün memnunum\n",
       "10101  10102  zaman kullanıyorum kaşları besliyor yeni kaş ç...\n",
       "\n",
       "[10098 rows x 2 columns]"
      ]
     },
     "execution_count": 5,
     "metadata": {},
     "output_type": "execute_result"
    }
   ],
   "source": [
    "df"
   ]
  },
  {
   "cell_type": "markdown",
   "id": "ac493789",
   "metadata": {},
   "source": [
    "## Word2vec modeli oluşturalım"
   ]
  },
  {
   "cell_type": "code",
   "execution_count": 6,
   "id": "8af03180",
   "metadata": {},
   "outputs": [
    {
     "name": "stdout",
     "output_type": "stream",
     "text": [
      "'güzel 'nin şiddeti 2801 \n",
      "'bir 'nin şiddeti 2591 \n",
      "'ürün 'nin şiddeti 1850 \n",
      "'iyi 'nin şiddeti 1279 \n",
      "'kullanıyorum 'nin şiddeti 898 \n",
      "'aldım 'nin şiddeti 744 \n",
      "'ederim 'nin şiddeti 636 \n",
      "'beğendim 'nin şiddeti 636 \n",
      "'tavsiye 'nin şiddeti 577 \n",
      "'geldi 'nin şiddeti 552 \n",
      "'harika 'nin şiddeti 486 \n",
      "'bi 'nin şiddeti 480 \n",
      "'cok 'nin şiddeti 476 \n",
      "'gayet 'nin şiddeti 457 \n",
      "'memnun 'nin şiddeti 427 \n",
      "'kullandığım 'nin şiddeti 411 \n",
      "'ben 'nin şiddeti 408 \n",
      "'teşekkürler 'nin şiddeti 374 \n",
      "'saç 'nin şiddeti 362 \n",
      "'ürünü 'nin şiddeti 356 \n"
     ]
    }
   ],
   "source": [
    "metin = [cumle.split() for cumle in df['Cleaned_Text'].tolist()]\n",
    "\n",
    "kelime_vetor_modeli = Word2Vec(sentences=metin, vector_size=300, window=10, min_count=1, workers=4, sg=1, epochs=20)\n",
    "\n",
    "# sözcük şiddetini kayıt etme\n",
    "kelime_siddet = Counter()\n",
    "for cumle in metin:\n",
    "    kelime_siddet.update(cumle)\n",
    "\n",
    "# en çok kullanılan 20 kelimenin toplam şiddeti\n",
    "ilk_20_kelimeler = kelime_siddet.most_common(20)\n",
    "\n",
    "for kelime, frekans in ilk_20_kelimeler:\n",
    "    print(f\"'{kelime} 'nin şiddeti {frekans} \")\n"
   ]
  },
  {
   "cell_type": "markdown",
   "id": "b6abf70c",
   "metadata": {},
   "source": [
    "# En sık geçen kelimeler ve onlara yakın 5 er kelime"
   ]
  },
  {
   "cell_type": "code",
   "execution_count": 7,
   "id": "0e06bdbc",
   "metadata": {},
   "outputs": [
    {
     "data": {
      "text/plain": [
       "[('cildide', 0.7373741865158081),\n",
       " ('dokusuna', 0.7312687635421753),\n",
       " ('olmasıda', 0.7066032886505127),\n",
       " ('alınabilir', 0.7061951756477356),\n",
       " ('aydınlatıp', 0.7043179273605347)]"
      ]
     },
     "execution_count": 7,
     "metadata": {},
     "output_type": "execute_result"
    }
   ],
   "source": [
    "kelime_vetor_modeli.wv.most_similar(\"güzel\",topn=5)"
   ]
  },
  {
   "cell_type": "code",
   "execution_count": 8,
   "id": "8b9e3e6b",
   "metadata": {},
   "outputs": [
    {
     "data": {
      "text/plain": [
       "[('volum', 0.5969262719154358),\n",
       " ('kargosuda', 0.5937753915786743),\n",
       " ('şeyiyle', 0.5877104997634888),\n",
       " ('cokk', 0.5861396193504333),\n",
       " ('kapatan', 0.5859840512275696)]"
      ]
     },
     "execution_count": 8,
     "metadata": {},
     "output_type": "execute_result"
    }
   ],
   "source": [
    "kelime_vetor_modeli.wv.most_similar(\"bir\",topn=5)"
   ]
  },
  {
   "cell_type": "code",
   "execution_count": 9,
   "id": "23ec8bce",
   "metadata": {},
   "outputs": [
    {
     "data": {
      "text/plain": [
       "[('yeniliyoruz', 0.6780169606208801),\n",
       " ('kullandığımız', 0.6743797659873962),\n",
       " ('ürun', 0.6625677347183228),\n",
       " ('hizmet', 0.660293698310852),\n",
       " ('ürünn', 0.6555059552192688)]"
      ]
     },
     "execution_count": 9,
     "metadata": {},
     "output_type": "execute_result"
    }
   ],
   "source": [
    "kelime_vetor_modeli.wv.most_similar(\"ürün\",topn=5)"
   ]
  },
  {
   "cell_type": "code",
   "execution_count": 10,
   "id": "b9240642",
   "metadata": {},
   "outputs": [
    {
     "data": {
      "text/plain": [
       "[('stoklayacam', 0.6026135087013245),\n",
       " ('güzel', 0.5952563285827637),\n",
       " ('özeliğine', 0.5905597805976868),\n",
       " ('güzelll', 0.583467423915863),\n",
       " ('yapmadan', 0.5821695923805237)]"
      ]
     },
     "execution_count": 10,
     "metadata": {},
     "output_type": "execute_result"
    }
   ],
   "source": [
    "kelime_vetor_modeli.wv.most_similar(\"iyi\",topn=5)"
   ]
  },
  {
   "cell_type": "code",
   "execution_count": 11,
   "id": "29265e40",
   "metadata": {},
   "outputs": [
    {
     "data": {
      "text/plain": [
       "[('cildide', 0.7373741865158081),\n",
       " ('dokusuna', 0.7312687635421753),\n",
       " ('olmasıda', 0.7066032886505127),\n",
       " ('alınabilir', 0.7061951756477356),\n",
       " ('aydınlatıp', 0.7043179273605347)]"
      ]
     },
     "execution_count": 11,
     "metadata": {},
     "output_type": "execute_result"
    }
   ],
   "source": [
    "kelime_vetor_modeli.wv.most_similar(\"güzel\",topn=5)"
   ]
  },
  {
   "cell_type": "code",
   "execution_count": 12,
   "id": "4bade391",
   "metadata": {},
   "outputs": [
    {
     "data": {
      "text/plain": [
       "[('almıştım', 0.6715522408485413),\n",
       " ('aldık', 0.6089563369750977),\n",
       " ('yorumlara', 0.5629066228866577),\n",
       " ('güvenerek', 0.5618525743484497),\n",
       " ('aldımçok', 0.5572366118431091)]"
      ]
     },
     "execution_count": 12,
     "metadata": {},
     "output_type": "execute_result"
    }
   ],
   "source": [
    "kelime_vetor_modeli.wv.most_similar(\"aldım\",topn=5)"
   ]
  },
  {
   "cell_type": "code",
   "execution_count": 13,
   "id": "5cc1c4ba",
   "metadata": {},
   "outputs": [
    {
     "data": {
      "text/plain": [
       "[('tavsiye', 0.7133440971374512),\n",
       " ('emeği', 0.7050677537918091),\n",
       " ('ediyorum', 0.688154935836792),\n",
       " ('tafsiye', 0.6662752032279968),\n",
       " ('geçen', 0.6654369235038757)]"
      ]
     },
     "execution_count": 13,
     "metadata": {},
     "output_type": "execute_result"
    }
   ],
   "source": [
    "kelime_vetor_modeli.wv.most_similar(\"ederim\",topn=5)"
   ]
  },
  {
   "cell_type": "code",
   "execution_count": 14,
   "id": "6c301320",
   "metadata": {},
   "outputs": [
    {
     "data": {
      "text/plain": [
       "[('ciltteben', 0.7045625448226929),\n",
       " ('sizde', 0.7023620009422302),\n",
       " ('eşitlemesi', 0.6915389895439148),\n",
       " ('bayıldımm', 0.6775908470153809),\n",
       " ('sevmediğim', 0.6707484126091003)]"
      ]
     },
     "execution_count": 14,
     "metadata": {},
     "output_type": "execute_result"
    }
   ],
   "source": [
    "kelime_vetor_modeli.wv.most_similar(\"beğendim\",topn=5)"
   ]
  },
  {
   "cell_type": "code",
   "execution_count": 15,
   "id": "ed65eec6",
   "metadata": {},
   "outputs": [
    {
     "data": {
      "text/plain": [
       "[('ederim', 0.7133440375328064),\n",
       " ('herkese', 0.7131204009056091),\n",
       " ('emeği', 0.6991973519325256),\n",
       " ('şiddetle', 0.6815500855445862),\n",
       " ('tafsiye', 0.6743690371513367)]"
      ]
     },
     "execution_count": 15,
     "metadata": {},
     "output_type": "execute_result"
    }
   ],
   "source": [
    "kelime_vetor_modeli.wv.most_similar(\"tavsiye\",topn=5)"
   ]
  },
  {
   "cell_type": "code",
   "execution_count": 16,
   "id": "aa986971",
   "metadata": {},
   "outputs": [
    {
     "data": {
      "text/plain": [
       "[('trentyol', 0.5921217203140259),\n",
       " ('yuzüm', 0.5829196572303772),\n",
       " ('gerçektenguzel', 0.5784269571304321),\n",
       " ('gelir', 0.5740037560462952),\n",
       " ('nemlendırıyor', 0.5710475444793701)]"
      ]
     },
     "execution_count": 16,
     "metadata": {},
     "output_type": "execute_result"
    }
   ],
   "source": [
    "kelime_vetor_modeli.wv.most_similar(\"geldi\",topn=5)"
   ]
  },
  {
   "cell_type": "code",
   "execution_count": 17,
   "id": "83d2d5c1",
   "metadata": {},
   "outputs": [
    {
     "data": {
      "text/plain": [
       "[('harikaa', 0.7321752905845642),\n",
       " ('şahane', 0.7282494902610779),\n",
       " ('mükemmell', 0.694683313369751),\n",
       " ('peki', 0.6870105862617493),\n",
       " ('süper', 0.681281328201294)]"
      ]
     },
     "execution_count": 17,
     "metadata": {},
     "output_type": "execute_result"
    }
   ],
   "source": [
    "kelime_vetor_modeli.wv.most_similar(\"harika\",topn=5)"
   ]
  },
  {
   "cell_type": "code",
   "execution_count": 18,
   "id": "d35d5475",
   "metadata": {},
   "outputs": [
    {
     "data": {
      "text/plain": [
       "[('bir', 0.5471741557121277),\n",
       " ('evet', 0.4844575822353363),\n",
       " ('tabakası', 0.47418835759162903),\n",
       " ('bayıldımm', 0.47302088141441345),\n",
       " ('müthiş', 0.4688134789466858)]"
      ]
     },
     "execution_count": 18,
     "metadata": {},
     "output_type": "execute_result"
    }
   ],
   "source": [
    "kelime_vetor_modeli.wv.most_similar(\"bi\",topn=5)"
   ]
  },
  {
   "cell_type": "code",
   "execution_count": 19,
   "id": "708c96ec",
   "metadata": {},
   "outputs": [
    {
     "data": {
      "text/plain": [
       "[('guzel', 0.7351284623146057),\n",
       " ('kivami', 0.6913178563117981),\n",
       " ('yuzume', 0.683616578578949),\n",
       " ('hic', 0.6824491024017334),\n",
       " ('azaldi', 0.6724315285682678)]"
      ]
     },
     "execution_count": 19,
     "metadata": {},
     "output_type": "execute_result"
    }
   ],
   "source": [
    "kelime_vetor_modeli.wv.most_similar(\"cok\",topn=5)"
   ]
  },
  {
   "cell_type": "code",
   "execution_count": 20,
   "id": "4c460703",
   "metadata": {},
   "outputs": [
    {
     "data": {
      "text/plain": [
       "[('çookk', 0.6360285878181458),\n",
       " ('alınabilir', 0.63365238904953),\n",
       " ('kapatıcılıkta', 0.6327260732650757),\n",
       " ('şeker', 0.6197323203086853),\n",
       " ('süreci', 0.6177762746810913)]"
      ]
     },
     "execution_count": 20,
     "metadata": {},
     "output_type": "execute_result"
    }
   ],
   "source": [
    "kelime_vetor_modeli.wv.most_similar(\"gayet\",topn=5)"
   ]
  },
  {
   "cell_type": "code",
   "execution_count": 21,
   "id": "d69e7db6",
   "metadata": {},
   "outputs": [
    {
     "data": {
      "text/plain": [
       "[('kaldım', 0.7922406792640686),\n",
       " ('memnum', 0.5778965950012207),\n",
       " ('kalmıştım', 0.5559083223342896),\n",
       " ('ürünlerinden', 0.5539810657501221),\n",
       " ('sarımtırak', 0.5421123504638672)]"
      ]
     },
     "execution_count": 21,
     "metadata": {},
     "output_type": "execute_result"
    }
   ],
   "source": [
    "kelime_vetor_modeli.wv.most_similar(\"memnun\",topn=5)"
   ]
  },
  {
   "cell_type": "code",
   "execution_count": 22,
   "id": "af8352c0",
   "metadata": {},
   "outputs": [
    {
     "data": {
      "text/plain": [
       "[('kullandığımız', 0.705180823802948),\n",
       " ('kullandığjm', 0.6747100949287415),\n",
       " ('içerikli', 0.6718727350234985),\n",
       " ('yedeğini', 0.6705794930458069),\n",
       " ('vazgeçemediğim', 0.6604776382446289)]"
      ]
     },
     "execution_count": 22,
     "metadata": {},
     "output_type": "execute_result"
    }
   ],
   "source": [
    "kelime_vetor_modeli.wv.most_similar(\"kullandığım\",topn=5)"
   ]
  },
  {
   "cell_type": "code",
   "execution_count": 23,
   "id": "d23ff122",
   "metadata": {},
   "outputs": [
    {
     "data": {
      "text/plain": [
       "[('kokusunu', 0.5093058943748474),\n",
       " ('yapısını', 0.5076867938041687),\n",
       " ('acayıp', 0.47026193141937256),\n",
       " ('teşekkürlerrr', 0.46929416060447693),\n",
       " ('dokusunu', 0.4684287905693054)]"
      ]
     },
     "execution_count": 23,
     "metadata": {},
     "output_type": "execute_result"
    }
   ],
   "source": [
    "kelime_vetor_modeli.wv.most_similar(\"ben\",topn=5)"
   ]
  },
  {
   "cell_type": "code",
   "execution_count": 24,
   "id": "2a058417",
   "metadata": {},
   "outputs": [
    {
     "data": {
      "text/plain": [
       "[('yanındaki', 0.7325668334960938),\n",
       " ('ailesi', 0.7236562371253967),\n",
       " ('gönderdi', 0.7085230350494385),\n",
       " ('trendyol', 0.7071654796600342),\n",
       " ('express', 0.7063961625099182)]"
      ]
     },
     "execution_count": 24,
     "metadata": {},
     "output_type": "execute_result"
    }
   ],
   "source": [
    "kelime_vetor_modeli.wv.most_similar(\"teşekkürler\",topn=5)"
   ]
  },
  {
   "cell_type": "code",
   "execution_count": 25,
   "id": "b340a0e9",
   "metadata": {},
   "outputs": [
    {
     "data": {
      "text/plain": [
       "[('dökülmesi', 0.719315230846405),\n",
       " ('dökülmesini', 0.6986489295959473),\n",
       " ('dökülmem', 0.6642810106277466),\n",
       " ('azalttı', 0.6377424597740173),\n",
       " ('dökülmesine', 0.633691668510437)]"
      ]
     },
     "execution_count": 25,
     "metadata": {},
     "output_type": "execute_result"
    }
   ],
   "source": [
    "kelime_vetor_modeli.wv.most_similar(\"saç\",topn=5)"
   ]
  },
  {
   "cell_type": "code",
   "execution_count": 26,
   "id": "7f57040b",
   "metadata": {},
   "outputs": [
    {
     "data": {
      "text/plain": [
       "[('ürünüü', 0.5472183227539062),\n",
       " ('içinse', 0.5288094282150269),\n",
       " ('badesnews', 0.5139651894569397),\n",
       " ('alınıırr', 0.5137115120887756),\n",
       " ('diyelim', 0.5132619738578796)]"
      ]
     },
     "execution_count": 26,
     "metadata": {},
     "output_type": "execute_result"
    }
   ],
   "source": [
    "kelime_vetor_modeli.wv.most_similar(\"ürünü\",topn=5)"
   ]
  },
  {
   "cell_type": "markdown",
   "id": "3d916f88",
   "metadata": {},
   "source": [
    "# Beş farklı cümle ve onlara benzeyen 3 cümle"
   ]
  },
  {
   "cell_type": "code",
   "execution_count": 27,
   "id": "cbd9b929",
   "metadata": {},
   "outputs": [],
   "source": [
    "from nltk.tokenize import word_tokenize\n",
    "from sklearn.metrics.pairwise import cosine_similarity\n",
    "import numpy as np\n",
    "\n",
    "\n",
    "def tokenize_text(text):\n",
    "    return word_tokenize(text) "
   ]
  },
  {
   "cell_type": "code",
   "execution_count": 28,
   "id": "f84fe2f9",
   "metadata": {},
   "outputs": [
    {
     "name": "stdout",
     "output_type": "stream",
     "text": [
      "En Benzer 3 Cümle:\n",
      " 9727.Cümle: şampuanımin içine katıyorum efsane saçına iyi geliyor, Benzerlik: 0.9999998807907104\n",
      " 9033.Cümle: alınır şeyin ilacı boyu küçük ancak yetiyor sonuçta e vitamini krem sürümez, Benzerlik: 0.9297224879264832\n",
      " 9640.Cümle: kaliteli bir ürün, Benzerlik: 0.9184439182281494\n",
      " 9297.Cümle: saçlarımı güclendırmek aldım memnunda kaldım ancak ml ona göre alın minik bir şişe kullandım zor görür işe yarıyor, Benzerlik: 0.907823920249939\n"
     ]
    }
   ],
   "source": [
    "cumle = \"yoğun bir yapısı var saf e vitamini değil içerisinde bir yağ var ben kremlerimin içine ekledim\"\n",
    "\n",
    "# Seçilen ifade\n",
    "dilimlenmisCumle = tokenize_text(cumle)\n",
    "\n",
    "# Seçilen cümleyi vektörle temsil edelim\n",
    "cumleVektoru = np.mean([kelime_vetor_modeli.wv[word] for word in dilimlenmisCumle if word in kelime_vetor_modeli.wv], axis=0)\n",
    "\n",
    "# Veri setindeki tüm cümleleri vektörle temsil edelim\n",
    "tumCumleVectorleri = [np.mean([kelime_vetor_modeli.wv[word] for word in tokenize_text(sentence) if word in kelime_vetor_modeli.wv], axis=0)\n",
    "                        for sentence in df['Cleaned_Text']]\n",
    "\n",
    "# Cosine Similarity kullanarak benzer cümleleri bulalım\n",
    "benzerlikler = cosine_similarity([cumleVektoru], tumCumleVectorleri)[0]\n",
    "\n",
    "# Benzerlik sırasına göre indeksleri alalım\n",
    "enBenzer3 = benzerlikler.argsort()[-4:][::-1]\n",
    "\n",
    "print( \"En Benzer 3 Cümle:\")\n",
    "for index in enBenzer3:\n",
    "    print(f\" {df[0][index]}.Cümle: {df['Cleaned_Text'][index]}, Benzerlik: {benzerlikler[index]}\")"
   ]
  },
  {
   "cell_type": "code",
   "execution_count": 29,
   "id": "3d58b0b1",
   "metadata": {},
   "outputs": [
    {
     "name": "stdout",
     "output_type": "stream",
     "text": [
      "Seçilen İfadeye En Benzer 3 Cümle:\n",
      " 8579.Cümle: saç dökülmemi azalttı, Benzerlik: 1.0\n",
      " 8279.Cümle: güzel ürün fiyatları aşırı artıyor, Benzerlik: 0.9331865310668945\n",
      " 8257.Cümle: istediğim performans göstermedi, Benzerlik: 0.9215301275253296\n",
      " 8488.Cümle: vichynin hacimlendirici şampuanı kullanıyordum bir süredir saçlarım döküldüğü şampuana şans vermek istedim umarım güzel sonuçlar alırım unutmazsam yorumu guncelleyecegim bir süre sonra, Benzerlik: 0.9178739786148071\n"
     ]
    }
   ],
   "source": [
    "cumle = \"saç dökülmemi azalttı kaliteli bir ürün severek kullanıyorum\"\n",
    "\n",
    "# Seçilen ifadeyi dilimleyelim\n",
    "dilimlenmisCumle = tokenize_text(cumle)\n",
    "\n",
    "# Seçilen ifadeyi vektörel olarak gösterelim\n",
    "cumleVektoru = np.mean([kelime_vetor_modeli.wv[word] for word in dilimlenmisCumle if word in kelime_vetor_modeli.wv], axis=0)\n",
    "\n",
    "# Veri kümesindeki bütün ifadeleri vektör tabanlı olarak gösterelim\n",
    "tumCumleVektorleri = [np.mean([kelime_vetor_modeli.wv[word] for word in tokenize_text(sentence) if word in kelime_vetor_modeli.wv], axis=0)\n",
    "                        for sentence in df['Cleaned_Text']]\n",
    "\n",
    "# Kosinüs Benzerliği yöntemiyle benzer ifadeleri tespit edelim\n",
    "benzerlikler = cosine_similarity([cumleVektoru], tumCumleVektorleri)[0]\n",
    "\n",
    "# Sıralı benzerliklere göre indeksleri alalım\n",
    "enBenzer3 = benzerlikler.argsort()[-4:][::-1]\n",
    "\n",
    "print(\"Seçilen İfadeye En Benzer 3 Cümle:\")\n",
    "for index in enBenzer3:\n",
    "    print(f\" {df[0][index]}.Cümle: {df['Cleaned_Text'][index]}, Benzerlik: {benzerlikler[index]}\")"
   ]
  },
  {
   "cell_type": "code",
   "execution_count": 30,
   "id": "1f9507a4",
   "metadata": {},
   "outputs": [
    {
     "name": "stdout",
     "output_type": "stream",
     "text": [
      "Seçilen İfadeye En Benzer 3 Cümle:\n",
      " 6312.Cümle: ustte gorunsun yildiz verdimsakin stok yapmayin sonucu boyle olur birkac ay once aldigim urunler kendi kendine akmis ucuz degil param cöp oldu uzerinden zaman gectigi icin asla yardimci olmadilar hic adil olmadi uygulamadan bir cok urun aldim uzerinden zaman gecenlere dahil yardimci olan saticilar oldu ambalaj hatasi va, Benzerlik: 1.0000001192092896\n",
      " 6468.Cümle: beğendim mmm, Benzerlik: 0.9277604818344116\n",
      " 6318.Cümle: harika ısıl ısıl oldu ilk sürmede bile fark etti, Benzerlik: 0.9269977807998657\n",
      " 5764.Cümle: ablam aldı beğendi, Benzerlik: 0.9268509745597839\n"
     ]
    }
   ],
   "source": [
    "cumle = \"severek kullanıyorum cildimi ışıl ışıl yapıyor cildin dokusunu onarıp iyileştiriyor hissediyorum\"\n",
    "\n",
    "# Seçilen ifadeyi dilimleyelim\n",
    "dilimlenmisCumle = tokenize_text(cumle)\n",
    "\n",
    "# Seçilen ifadeyi vektörel olarak gösterelim\n",
    "cumleVektoru = np.mean([kelime_vetor_modeli.wv[word] for word in dilimlenmisCumle if word in kelime_vetor_modeli.wv], axis=0)\n",
    "\n",
    "# Veri kümesindeki bütün ifadeleri vektör tabanlı olarak gösterelim\n",
    "tumCumleVektorleri = [np.mean([kelime_vetor_modeli.wv[word] for word in tokenize_text(sentence) if word in kelime_vetor_modeli.wv], axis=0)\n",
    "                        for sentence in df['Cleaned_Text']]\n",
    "\n",
    "# Kosinüs Benzerliği yöntemiyle benzer ifadeleri tespit edelim\n",
    "benzerlikler = cosine_similarity([cumleVektoru], tumCumleVektorleri)[0]\n",
    "\n",
    "# Sıralı benzerliklere göre indeksleri alalım\n",
    "enBenzer3 = benzerlikler.argsort()[-4:][::-1]\n",
    "\n",
    "print(\"Seçilen İfadeye En Benzer 3 Cümle:\")\n",
    "for index in enBenzer3:\n",
    "    print(f\" {df[0][index]}.Cümle: {df['Cleaned_Text'][index]}, Benzerlik: {benzerlikler[index]}\")"
   ]
  },
  {
   "cell_type": "code",
   "execution_count": 31,
   "id": "c765b7d9",
   "metadata": {},
   "outputs": [
    {
     "name": "stdout",
     "output_type": "stream",
     "text": [
      "Seçilen İfadeye En Benzer 3 Cümle:\n",
      " 6312.Cümle: ustte gorunsun yildiz verdimsakin stok yapmayin sonucu boyle olur birkac ay once aldigim urunler kendi kendine akmis ucuz degil param cöp oldu uzerinden zaman gectigi icin asla yardimci olmadilar hic adil olmadi uygulamadan bir cok urun aldim uzerinden zaman gecenlere dahil yardimci olan saticilar oldu ambalaj hatasi va, Benzerlik: 1.0000001192092896\n",
      " 6468.Cümle: beğendim mmm, Benzerlik: 0.9277604818344116\n",
      " 6318.Cümle: harika ısıl ısıl oldu ilk sürmede bile fark etti, Benzerlik: 0.9269977807998657\n",
      " 5764.Cümle: ablam aldı beğendi, Benzerlik: 0.9268509745597839\n"
     ]
    }
   ],
   "source": [
    "selected_sentence = \"dokusu kalıcılığı kokusu nemlendirici özelliği harika birçok nemlendirici kullanan olarak bayıldım ürüne\"\n",
    "\n",
    "# Seçilen ifadeyi dilimleyelim\n",
    "dilimlenmisCumle = tokenize_text(cumle)\n",
    "\n",
    "# Seçilen ifadeyi vektörel olarak gösterelim\n",
    "cumleVektoru = np.mean([kelime_vetor_modeli.wv[word] for word in dilimlenmisCumle if word in kelime_vetor_modeli.wv], axis=0)\n",
    "\n",
    "# Veri kümesindeki bütün ifadeleri vektör tabanlı olarak gösterelim\n",
    "tumCumleVektorleri = [np.mean([kelime_vetor_modeli.wv[word] for word in tokenize_text(sentence) if word in kelime_vetor_modeli.wv], axis=0)\n",
    "                        for sentence in df['Cleaned_Text']]\n",
    "\n",
    "# Kosinüs Benzerliği yöntemiyle benzer ifadeleri tespit edelim\n",
    "benzerlikler = cosine_similarity([cumleVektoru], tumCumleVektorleri)[0]\n",
    "\n",
    "# Sıralı benzerliklere göre indeksleri alalım\n",
    "enBenzer3 = benzerlikler.argsort()[-4:][::-1]\n",
    "\n",
    "print(\"Seçilen İfadeye En Benzer 3 Cümle:\")\n",
    "for index in enBenzer3:\n",
    "    print(f\" {df[0][index]}.Cümle: {df['Cleaned_Text'][index]}, Benzerlik: {benzerlikler[index]}\")"
   ]
  },
  {
   "cell_type": "code",
   "execution_count": 32,
   "id": "7fa8beee",
   "metadata": {},
   "outputs": [
    {
     "name": "stdout",
     "output_type": "stream",
     "text": [
      "Seçilen İfadeye En Benzer 3 Cümle:\n",
      " 6312.Cümle: ustte gorunsun yildiz verdimsakin stok yapmayin sonucu boyle olur birkac ay once aldigim urunler kendi kendine akmis ucuz degil param cöp oldu uzerinden zaman gectigi icin asla yardimci olmadilar hic adil olmadi uygulamadan bir cok urun aldim uzerinden zaman gecenlere dahil yardimci olan saticilar oldu ambalaj hatasi va, Benzerlik: 1.0000001192092896\n",
      " 6468.Cümle: beğendim mmm, Benzerlik: 0.9277604818344116\n",
      " 6318.Cümle: harika ısıl ısıl oldu ilk sürmede bile fark etti, Benzerlik: 0.9269977807998657\n",
      " 5764.Cümle: ablam aldı beğendi, Benzerlik: 0.9268509745597839\n"
     ]
    }
   ],
   "source": [
    "selected_sentence = \"fondötene gerek bırakmayacak bir ürün kapatıcılığını cilt tonu eşitlemesini seviyorum\"\n",
    "\n",
    "# Seçilen ifadeyi dilimleyelim\n",
    "dilimlenmisCumle = tokenize_text(cumle)\n",
    "\n",
    "# Seçilen ifadeyi vektörel olarak gösterelim\n",
    "cumleVektoru = np.mean([kelime_vetor_modeli.wv[word] for word in dilimlenmisCumle if word in kelime_vetor_modeli.wv], axis=0)\n",
    "\n",
    "# Veri kümesindeki bütün ifadeleri vektör tabanlı olarak gösterelim\n",
    "tumCumleVektorleri = [np.mean([kelime_vetor_modeli.wv[word] for word in tokenize_text(sentence) if word in kelime_vetor_modeli.wv], axis=0)\n",
    "                        for sentence in df['Cleaned_Text']]\n",
    "\n",
    "# Kosinüs Benzerliği yöntemiyle benzer ifadeleri tespit edelim\n",
    "benzerlikler = cosine_similarity([cumleVektoru], tumCumleVektorleri)[0]\n",
    "\n",
    "# Sıralı benzerliklere göre indeksleri alalım\n",
    "enBenzer3 = benzerlikler.argsort()[-4:][::-1]\n",
    "\n",
    "print(\"Seçilen İfadeye En Benzer 3 Cümle:\")\n",
    "for index in enBenzer3:\n",
    "    print(f\" {df[0][index]}.Cümle: {df['Cleaned_Text'][index]}, Benzerlik: {benzerlikler[index]}\")"
   ]
  },
  {
   "cell_type": "code",
   "execution_count": 33,
   "id": "9795a3ad",
   "metadata": {},
   "outputs": [
    {
     "name": "stdout",
     "output_type": "stream",
     "text": [
      "Seçilen İfadeye En Benzer 3 Cümle:\n",
      " 6312.Cümle: ustte gorunsun yildiz verdimsakin stok yapmayin sonucu boyle olur birkac ay once aldigim urunler kendi kendine akmis ucuz degil param cöp oldu uzerinden zaman gectigi icin asla yardimci olmadilar hic adil olmadi uygulamadan bir cok urun aldim uzerinden zaman gecenlere dahil yardimci olan saticilar oldu ambalaj hatasi va, Benzerlik: 1.0000001192092896\n",
      " 6468.Cümle: beğendim mmm, Benzerlik: 0.9277604818344116\n",
      " 6318.Cümle: harika ısıl ısıl oldu ilk sürmede bile fark etti, Benzerlik: 0.9269977807998657\n",
      " 5764.Cümle: ablam aldı beğendi, Benzerlik: 0.9268509745597839\n"
     ]
    }
   ],
   "source": [
    "selected_sentence = \"güzel kirpiklerimi kaldırdı dolgunluk verdi beğendim\"\n",
    "\n",
    "# Seçilen ifadeyi dilimleyelim\n",
    "dilimlenmisCumle = tokenize_text(cumle)\n",
    "\n",
    "# Seçilen ifadeyi vektörel olarak gösterelim\n",
    "cumleVektoru = np.mean([kelime_vetor_modeli.wv[word] for word in dilimlenmisCumle if word in kelime_vetor_modeli.wv], axis=0)\n",
    "\n",
    "# Veri kümesindeki bütün ifadeleri vektör tabanlı olarak gösterelim\n",
    "tumCumleVektorleri = [np.mean([kelime_vetor_modeli.wv[word] for word in tokenize_text(sentence) if word in kelime_vetor_modeli.wv], axis=0)\n",
    "                        for sentence in df['Cleaned_Text']]\n",
    "\n",
    "# Kosinüs Benzerliği yöntemiyle benzer ifadeleri tespit edelim\n",
    "benzerlikler = cosine_similarity([cumleVektoru], tumCumleVektorleri)[0]\n",
    "\n",
    "# Sıralı benzerliklere göre indeksleri alalım\n",
    "enBenzer3 = benzerlikler.argsort()[-4:][::-1]\n",
    "\n",
    "print(\"Seçilen İfadeye En Benzer 3 Cümle:\")\n",
    "for index in enBenzer3:\n",
    "    print(f\" {df[0][index]}.Cümle: {df['Cleaned_Text'][index]}, Benzerlik: {benzerlikler[index]}\")"
   ]
  },
  {
   "cell_type": "code",
   "execution_count": null,
   "id": "59a6f76a",
   "metadata": {},
   "outputs": [],
   "source": []
  }
 ],
 "metadata": {
  "kernelspec": {
   "display_name": "Python 3 (ipykernel)",
   "language": "python",
   "name": "python3"
  },
  "language_info": {
   "codemirror_mode": {
    "name": "ipython",
    "version": 3
   },
   "file_extension": ".py",
   "mimetype": "text/x-python",
   "name": "python",
   "nbconvert_exporter": "python",
   "pygments_lexer": "ipython3",
   "version": "3.11.5"
  }
 },
 "nbformat": 4,
 "nbformat_minor": 5
}
